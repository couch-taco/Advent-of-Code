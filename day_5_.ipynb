{
  "nbformat": 4,
  "nbformat_minor": 0,
  "metadata": {
    "colab": {
      "provenance": [],
      "authorship_tag": "ABX9TyNIfmjaUivcm7NO9n98kEUT",
      "include_colab_link": true
    },
    "kernelspec": {
      "name": "python3",
      "display_name": "Python 3"
    },
    "language_info": {
      "name": "python"
    }
  },
  "cells": [
    {
      "cell_type": "markdown",
      "metadata": {
        "id": "view-in-github",
        "colab_type": "text"
      },
      "source": [
        "<a href=\"https://colab.research.google.com/github/couch-taco/Advent-of-Code/blob/main/day_5_.ipynb\" target=\"_parent\"><img src=\"https://colab.research.google.com/assets/colab-badge.svg\" alt=\"Open In Colab\"/></a>"
      ]
    },
    {
      "cell_type": "code",
      "execution_count": null,
      "metadata": {
        "id": "THIynJVIt0UC"
      },
      "outputs": [],
      "source": [
        "!pip install aocd"
      ]
    },
    {
      "cell_type": "code",
      "source": [
        "from aocd import get_data, submit\n",
        "import pandas as pd\n",
        "import numpy as np\n",
        "import re"
      ],
      "metadata": {
        "id": "wJsF3TJsuC1y"
      },
      "execution_count": null,
      "outputs": []
    },
    {
      "cell_type": "code",
      "source": [
        "puzzel_year = 2023\n",
        "puzzel_day = 5\n",
        "cookies = ''\n",
        "raw = get_data(day = puzzel_day, year = puzzel_year, session= cookies)"
      ],
      "metadata": {
        "id": "bWWAbTQ3uD0p"
      },
      "execution_count": null,
      "outputs": []
    },
    {
      "cell_type": "code",
      "source": [
        "test_data = \"\"\"seeds: 79 14 55 13\n",
        "\n",
        "seed-to-soil map:\n",
        "50 98 2\n",
        "52 50 48\n",
        "\n",
        "soil-to-fertilizer map:\n",
        "0 15 37\n",
        "37 52 2\n",
        "39 0 15\n",
        "\n",
        "fertilizer-to-water map:\n",
        "49 53 8\n",
        "0 11 42\n",
        "42 0 7\n",
        "57 7 4\n",
        "\n",
        "water-to-light map:\n",
        "88 18 7\n",
        "18 25 70\n",
        "\n",
        "light-to-temperature map:\n",
        "45 77 23\n",
        "81 45 19\n",
        "68 64 13\n",
        "\n",
        "temperature-to-humidity map:\n",
        "0 69 1\n",
        "1 0 69\n",
        "\n",
        "humidity-to-location map:\n",
        "60 56 37\n",
        "56 93 4\"\"\""
      ],
      "metadata": {
        "id": "MfHv6a-FuF_7"
      },
      "execution_count": null,
      "outputs": []
    },
    {
      "cell_type": "code",
      "source": [
        "data = raw"
      ],
      "metadata": {
        "id": "yzt5sn88uOvX"
      },
      "execution_count": null,
      "outputs": []
    },
    {
      "cell_type": "code",
      "source": [
        "df = pd.DataFrame(data = data.split('\\n'))\n",
        "df.columns = ['row']"
      ],
      "metadata": {
        "id": "vH8eW40Uudb5"
      },
      "execution_count": null,
      "outputs": []
    },
    {
      "cell_type": "code",
      "source": [
        "df"
      ],
      "metadata": {
        "id": "4AUp74iyHWE4"
      },
      "execution_count": null,
      "outputs": []
    },
    {
      "cell_type": "code",
      "source": [
        "rows = np.arange(0, len(df), 1, dtype = int)\n"
      ],
      "metadata": {
        "id": "zOIEBZuBzxsV"
      },
      "execution_count": null,
      "outputs": []
    },
    {
      "cell_type": "code",
      "source": [
        "a=1\n",
        "for x in rows:\n",
        "  #temp_table = pd.DataFrame(columns = ['row'])\n",
        "  i = 1\n",
        "  if x == 0:\n",
        "    #name = df.iloc[x,0]\n",
        "    #name = name.split(':')[0]\n",
        "    globals()[f'table_{a}'] = df[x:x+1]\n",
        "    a+=1\n",
        "  elif df.iloc[x, 0] == '':\n",
        "    #name = df.iloc[x+1,0]\n",
        "    #name = name.split(' ')[0]\n",
        "    while df.iloc[x+i, 0] != '' and x+i+1 != len(df):\n",
        "      if x+i+2 == len(df):\n",
        "        i +=1\n",
        "        globals()[f'table_{a}'] = df[x+2:x+i+2]\n",
        "      elif df.iloc[x+i, 0] != '':\n",
        "        i +=1\n",
        "        globals()[f'table_{a}'] = df[x+2:x+i]\n",
        "    a+=1\n",
        "  else:\n",
        "    continue"
      ],
      "metadata": {
        "id": "1X69ikCB0Fuu"
      },
      "execution_count": null,
      "outputs": []
    },
    {
      "cell_type": "code",
      "source": [
        "def table_clean(a):\n",
        "  globals()[f'table_{a}'] = globals()[f'table_{a}']['row'].str.split(' ', expand=True)\n",
        "  return"
      ],
      "metadata": {
        "id": "5EHOm6Dn-3d6"
      },
      "execution_count": null,
      "outputs": []
    },
    {
      "cell_type": "code",
      "source": [
        "def add_range(a):\n",
        "  temp_table =  globals()[f'table_{a}']\n",
        "  temp_table = temp_table.rename(columns={0: \"var1_start\", 1: \"var2_start\", 2:'length'})\n",
        "  temp_table = temp_table.astype(int)\n",
        "  temp_table['var1_end'] = temp_table['var1_start'] + temp_table['length'] -1\n",
        "  temp_table['var2_end'] = temp_table['var2_start'] + temp_table['length'] -1\n",
        "  temp_table = temp_table.astype(int)\n",
        "  globals()[f'table_{a}_range'] = temp_table\n",
        "  return"
      ],
      "metadata": {
        "id": "1pJQN2N5dQL9"
      },
      "execution_count": null,
      "outputs": []
    },
    {
      "cell_type": "code",
      "source": [
        "def seed_map(a):\n",
        "  seeds.loc[len(seeds)] = '.'\n",
        "  for y in np.arange(1, seeds.shape[1]+1, 1, dtype = int):\n",
        "    temp_table_map =  globals()[f'table_{a}_range']\n",
        "    condition = (seeds.loc[a-2,y] >= temp_table_map['var2_start']) & (seeds.loc[a-2,y] <= temp_table_map['var2_end'])\n",
        "    condition2 = (seeds.loc[a-2,y] == temp_table_map['var2_start']) | (seeds.loc[a-2,y] == temp_table_map['var2_end'])\n",
        "    if np.sum(condition) >= 1:\n",
        "      difference = int(seeds.loc[a-2,y] - temp_table_map.loc[condition, 'var2_start'].values[0])\n",
        "      #print(difference)\n",
        "      start_value = int(temp_table_map.loc[condition, 'var1_start'].values[0] )\n",
        "      mapped_num = start_value+difference\n",
        "     # print(mapped_num)\n",
        "      seeds.loc[a-1,y] = mapped_num\n",
        "    else:\n",
        "      difference = None\n",
        "\n",
        "    if seeds.loc[a-1,y] == '.':\n",
        "      seeds.loc[a-1,y] = seeds.loc[a-2,y]\n",
        "  return\n"
      ],
      "metadata": {
        "id": "GvY-3vvxFOMc"
      },
      "execution_count": null,
      "outputs": []
    },
    {
      "cell_type": "code",
      "source": [
        "aa = np.arange(1, a, 1, dtype = int)\n",
        "aa\n",
        "for t in aa:\n",
        "  table_clean(t)\n",
        "  if t == 1:\n",
        "    continue\n",
        "  else:\n",
        "    add_range(t)\n",
        "\n"
      ],
      "metadata": {
        "id": "6QZnpJ7rUN6O"
      },
      "execution_count": null,
      "outputs": []
    },
    {
      "cell_type": "code",
      "source": [
        "seeds = table_1.iloc[: , 1:]\n",
        "seeds = seeds.astype(int)\n",
        "#seeds.loc[len(seeds)] = '.'\n",
        "seeds#.loc[0,1]\n",
        "#seeds.shape[1]"
      ],
      "metadata": {
        "id": "fKngSvHRFfau"
      },
      "execution_count": null,
      "outputs": []
    },
    {
      "cell_type": "code",
      "source": [
        "np.arange(0, len(new_seeds), 1, dtype = int)"
      ],
      "metadata": {
        "id": "YzZI3uXjYYFw"
      },
      "execution_count": null,
      "outputs": []
    },
    {
      "cell_type": "markdown",
      "source": [
        "Part 1"
      ],
      "metadata": {
        "id": "OPpmtEX3sum1"
      }
    },
    {
      "cell_type": "code",
      "source": [
        "aa = np.arange(2, a, 1, dtype = int)\n",
        "aa\n",
        "for t in aa:\n",
        "  seed_map(t)"
      ],
      "metadata": {
        "id": "1dOSlatRm_43"
      },
      "execution_count": null,
      "outputs": []
    },
    {
      "cell_type": "markdown",
      "source": [
        "part 2"
      ],
      "metadata": {
        "id": "XL9FEZd_6JCg"
      }
    },
    {
      "cell_type": "code",
      "source": [
        "z = 1\n",
        "new_seeds = pd.DataFrame(columns= ('Range_start', 'Range_end'))\n",
        "while z-1 != seeds.shape[1]:\n",
        "  new_seeds.loc[len(new_seeds)] = [seeds.loc[0,z], seeds.loc[0,z]+seeds.loc[0,z+1]-1]\n",
        "  new_seeds.reset_index(drop=True)\n",
        "\n",
        "  z += 2\n",
        "new_seeds.reset_index(drop=True)\n",
        "new_seeds"
      ],
      "metadata": {
        "id": "pll9tpSLO4IS"
      },
      "execution_count": null,
      "outputs": []
    },
    {
      "cell_type": "code",
      "source": [
        "new_seeds"
      ],
      "metadata": {
        "id": "y7CVwv0gPO6W"
      },
      "execution_count": null,
      "outputs": []
    },
    {
      "cell_type": "code",
      "source": [
        "intervals=table_8_range\n",
        "intervals = intervals.sort_values(by=['var2_start'])\n",
        "intervals= intervals.reset_index(drop=True)"
      ],
      "metadata": {
        "id": "sjaVHR10xRT6"
      },
      "execution_count": null,
      "outputs": []
    },
    {
      "cell_type": "code",
      "source": [
        "intervals"
      ],
      "metadata": {
        "id": "p7mXNfgzAktk"
      },
      "execution_count": null,
      "outputs": []
    },
    {
      "cell_type": "code",
      "source": [
        "new_rng = pd.DataFrame(columns= ('Range_start', 'Range_end'))\n",
        "new_seeds = new_seeds.reset_index(drop=True)\n",
        "for sr in np.arange(0, len(new_seeds), 1, dtype = int):\n",
        "  source_rng= new_seeds.loc[sr:sr]\n",
        "  source_rng= source_rng.reset_index(drop=True)\n",
        "  #temp_rng = pd.DataFrame(columns= ('Range_start', 'Range_end'))\n",
        "  #ii = np.arange(0, len(intervals), 1, dtype = int)\n",
        "  for i in np.arange(0, len(intervals), 1, dtype = int):\n",
        "    for s in np.arange(0, len(source_rng), 1, dtype = int):\n",
        "      source_rng= source_rng.reset_index(drop=True)\n",
        "      temp_rng = pd.DataFrame(columns= ('Range_start', 'Range_end'))\n",
        "      #print(f\"first: {source_rng.loc[s,'Range_start']}\")\n",
        "      #print(f\"second: {source_rng.loc[s,'Range_end']-1}\")\n",
        "      #print(f\"third: {intervals.loc[i,'var2_start']}\")\n",
        "      left = [source_rng.loc[s,'Range_start'], min(source_rng.loc[s,'Range_end']-1,intervals.loc[i,'var2_start'])]\n",
        "      #print(left)\n",
        "      mid = [max(source_rng.loc[s,'Range_start'],intervals.loc[i,'var2_start']), min(source_rng.loc[s,'Range_end'],intervals.loc[i,'var2_end'])]\n",
        "      right = [max(source_rng.loc[s,'Range_start'],intervals.loc[i,'var2_end']),source_rng.loc[s,'Range_end']]\n",
        "      if (left[1] >= left[0]):\n",
        "        temp_rng = temp_rng.append(pd.DataFrame([left], columns=['Range_start', 'Range_end']))\n",
        "        #print(temp_rng)\n",
        "      if mid[1]>=mid[0]:\n",
        "        #print(mid)\n",
        "        new_rng.loc[len(new_rng)] = [(mid[0] - intervals.loc[i,'var2_start'] + intervals.loc[i,'var1_start']),(mid[1] - intervals.loc[i,'var2_start'] + intervals.loc[i,'var1_start'])]\n",
        "      if right[1]>=right[0]:\n",
        "        temp_rng = temp_rng.append(pd.DataFrame([right], columns=['Range_start', 'Range_end']))\n",
        "      #print(s)\n",
        "    #print(f\"left: {left}\")\n",
        "    #print(f\"mid: {mid}\")\n",
        "    print(f\"right: {right}\")\n",
        "    #print(i)\n",
        "    #print(temp_rng)\n",
        "    source_rng = temp_rng\n",
        "  new_rng = new_rng.append(source_rng)\n",
        "\n",
        "new_seeds = new_rng\n",
        "#temp_rng\n",
        "#new_rng.loc[len(new_seeds)] = temp_rng\n",
        "#new_rng"
      ],
      "metadata": {
        "id": "J0NJAw8JyHox"
      },
      "execution_count": null,
      "outputs": []
    },
    {
      "cell_type": "code",
      "source": [
        "new_seeds"
      ],
      "metadata": {
        "id": "aQe8FOx1GnH1"
      },
      "execution_count": null,
      "outputs": []
    },
    {
      "cell_type": "code",
      "source": [
        "new_seeds.min()"
      ],
      "metadata": {
        "id": "NTWln4TPu_Ri"
      },
      "execution_count": null,
      "outputs": []
    }
  ]
}